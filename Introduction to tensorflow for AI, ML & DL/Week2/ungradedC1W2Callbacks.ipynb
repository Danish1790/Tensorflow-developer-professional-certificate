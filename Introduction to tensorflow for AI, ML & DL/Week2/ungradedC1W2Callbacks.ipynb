{
 "cells": [
  {
   "cell_type": "markdown",
   "id": "4eb266a5",
   "metadata": {
    "id": "U0xNQIdIpmM7",
    "papermill": {
     "duration": 0.004958,
     "end_time": "2022-09-14T06:41:42.051476",
     "exception": false,
     "start_time": "2022-09-14T06:41:42.046518",
     "status": "completed"
    },
    "tags": []
   },
   "source": [
    "<a href=\"https://colab.research.google.com/github/https-deeplearning-ai/tensorflow-1-public/blob/main/C1/W2/ungraded_labs/C1_W2_Lab_2_callbacks.ipynb\" target=\"_parent\"><img src=\"https://colab.research.google.com/assets/colab-badge.svg\" alt=\"Open In Colab\"/></a>"
   ]
  },
  {
   "cell_type": "markdown",
   "id": "95b2ad56",
   "metadata": {
    "id": "vBNo9JrZIYG6",
    "papermill": {
     "duration": 0.003642,
     "end_time": "2022-09-14T06:41:42.059423",
     "exception": false,
     "start_time": "2022-09-14T06:41:42.055781",
     "status": "completed"
    },
    "tags": []
   },
   "source": [
    "# Implementing callbacks to stop training when a particular loss or accuracy is obtained\n",
    "\n",
    "In this notebook , you will use the [Callbacks API](https://keras.io/api/callbacks/) to stop training when a specified metric is met. This is a useful feature so you won't need to complete all epochs when this threshold is reached. For example, if you set 500 epochs and your desired accuracy is already reached at epoch 200, then the training will automatically stop. Let's see how this is implemented in the next sections.\n"
   ]
  },
  {
   "cell_type": "markdown",
   "id": "46cd77e8",
   "metadata": {
    "id": "Mcwrn9AKKVb8",
    "papermill": {
     "duration": 0.003509,
     "end_time": "2022-09-14T06:41:42.066786",
     "exception": false,
     "start_time": "2022-09-14T06:41:42.063277",
     "status": "completed"
    },
    "tags": []
   },
   "source": [
    "# Load and Normalize the Fashion MNIST dataset\n",
    "\n",
    "We will use the Fashion MNIST dataset for this problem. And also we will normalize the pixel values to help optimize the training."
   ]
  },
  {
   "cell_type": "code",
   "execution_count": 1,
   "id": "4aec821a",
   "metadata": {
    "execution": {
     "iopub.execute_input": "2022-09-14T06:41:42.077565Z",
     "iopub.status.busy": "2022-09-14T06:41:42.076780Z",
     "iopub.status.idle": "2022-09-14T06:41:52.273881Z",
     "shell.execute_reply": "2022-09-14T06:41:52.272550Z"
    },
    "id": "8LTaefqDJMIn",
    "papermill": {
     "duration": 10.206002,
     "end_time": "2022-09-14T06:41:52.276927",
     "exception": false,
     "start_time": "2022-09-14T06:41:42.070925",
     "status": "completed"
    },
    "tags": []
   },
   "outputs": [
    {
     "name": "stdout",
     "output_type": "stream",
     "text": [
      "Downloading data from https://storage.googleapis.com/tensorflow/tf-keras-datasets/train-labels-idx1-ubyte.gz\n",
      "32768/29515 [=================================] - 0s 0us/step\n",
      "40960/29515 [=========================================] - 0s 0us/step\n",
      "Downloading data from https://storage.googleapis.com/tensorflow/tf-keras-datasets/train-images-idx3-ubyte.gz\n",
      "26427392/26421880 [==============================] - 0s 0us/step\n",
      "26435584/26421880 [==============================] - 0s 0us/step\n",
      "Downloading data from https://storage.googleapis.com/tensorflow/tf-keras-datasets/t10k-labels-idx1-ubyte.gz\n",
      "16384/5148 [===============================================================================================] - 0s 0us/step\n",
      "Downloading data from https://storage.googleapis.com/tensorflow/tf-keras-datasets/t10k-images-idx3-ubyte.gz\n",
      "4423680/4422102 [==============================] - 0s 0us/step\n",
      "4431872/4422102 [==============================] - 0s 0us/step\n"
     ]
    }
   ],
   "source": [
    "import tensorflow as tf\n",
    "\n",
    "# Instantiate the dataset API\n",
    "fmnist = tf.keras.datasets.fashion_mnist\n",
    "\n",
    "# Load the dataset\n",
    "(x_train, y_train),(x_test, y_test) = fmnist.load_data()\n",
    "\n",
    "# Normalize the pixel values\n",
    "x_train, x_test = x_train / 255.0, x_test / 255.0"
   ]
  },
  {
   "cell_type": "markdown",
   "id": "bc946a71",
   "metadata": {
    "id": "Ia2OadhALJjS",
    "papermill": {
     "duration": 0.005104,
     "end_time": "2022-09-14T06:41:52.287299",
     "exception": false,
     "start_time": "2022-09-14T06:41:52.282195",
     "status": "completed"
    },
    "tags": []
   },
   "source": [
    "# Creating a Callback class\n",
    "\n",
    "We can create a callback by defining a class that inherits the [tf.keras.callbacks.Callback](https://www.tensorflow.org/api_docs/python/tf/keras/callbacks/Callback) base class. From there, you can define available methods to set where the callback will be executed. For instance below,we will use the [on_epoch_end()](https://www.tensorflow.org/api_docs/python/tf/keras/callbacks/Callback#on_epoch_end) method to check the loss at each training epoch."
   ]
  },
  {
   "cell_type": "code",
   "execution_count": 2,
   "id": "8e5316d4",
   "metadata": {
    "execution": {
     "iopub.execute_input": "2022-09-14T06:41:52.299837Z",
     "iopub.status.busy": "2022-09-14T06:41:52.298779Z",
     "iopub.status.idle": "2022-09-14T06:41:52.307176Z",
     "shell.execute_reply": "2022-09-14T06:41:52.305925Z"
    },
    "id": "uuRmQZWVJAJH",
    "papermill": {
     "duration": 0.017322,
     "end_time": "2022-09-14T06:41:52.309747",
     "exception": false,
     "start_time": "2022-09-14T06:41:52.292425",
     "status": "completed"
    },
    "tags": []
   },
   "outputs": [],
   "source": [
    "class myCallback(tf.keras.callbacks.Callback):\n",
    "  def on_epoch_end(self, epoch, logs={}):\n",
    "    '''\n",
    "    Halts the training after reaching 60 percent accuracy\n",
    "\n",
    "    Args:\n",
    "      epoch (integer) - index of epoch (required but unused in the function definition below)\n",
    "      logs (dict) - metric results from the training epoch\n",
    "    '''\n",
    "\n",
    "    # Check accuracy\n",
    "    if(logs.get('loss') < 0.4):\n",
    "\n",
    "      # Stop if threshold is met\n",
    "      print(\"\\nLoss is lower than 0.4 so cancelling training!\")\n",
    "      self.model.stop_training = True\n",
    "\n",
    "# Instantiate class\n",
    "callbacks = myCallback()"
   ]
  },
  {
   "cell_type": "markdown",
   "id": "8d79e6c0",
   "metadata": {
    "id": "4xlXeLkFeMn8",
    "papermill": {
     "duration": 0.005157,
     "end_time": "2022-09-14T06:41:52.320226",
     "exception": false,
     "start_time": "2022-09-14T06:41:52.315069",
     "status": "completed"
    },
    "tags": []
   },
   "source": [
    "# Define and compile the model\n",
    "\n",
    "Next, you will define and compile the model. The architecture will simply a 3 layered neural net. Afterwards, you will set the optimizer, loss, and metrics that you will use for training."
   ]
  },
  {
   "cell_type": "code",
   "execution_count": 3,
   "id": "f35d11e4",
   "metadata": {
    "execution": {
     "iopub.execute_input": "2022-09-14T06:41:52.332762Z",
     "iopub.status.busy": "2022-09-14T06:41:52.332334Z",
     "iopub.status.idle": "2022-09-14T06:41:52.471340Z",
     "shell.execute_reply": "2022-09-14T06:41:52.470077Z"
    },
    "id": "7JXxMg3TpzER",
    "papermill": {
     "duration": 0.148212,
     "end_time": "2022-09-14T06:41:52.473817",
     "exception": false,
     "start_time": "2022-09-14T06:41:52.325605",
     "status": "completed"
    },
    "tags": []
   },
   "outputs": [
    {
     "name": "stderr",
     "output_type": "stream",
     "text": [
      "2022-09-14 06:41:52.380083: I tensorflow/core/common_runtime/process_util.cc:146] Creating new thread pool with default inter op setting: 2. Tune using inter_op_parallelism_threads for best performance.\n"
     ]
    }
   ],
   "source": [
    "# Define the model\n",
    "model = tf.keras.models.Sequential([\n",
    "  tf.keras.layers.Flatten(input_shape=(28, 28)),\n",
    "  tf.keras.layers.Dense(512, activation=tf.nn.relu),\n",
    "  tf.keras.layers.Dense(10, activation=tf.nn.softmax)\n",
    "])\n",
    "\n",
    "# Compile the model\n",
    "model.compile(optimizer=tf.optimizers.Adam(),\n",
    "              loss='sparse_categorical_crossentropy',\n",
    "              metrics=['accuracy'])\n",
    "\n"
   ]
  },
  {
   "cell_type": "markdown",
   "id": "8507f646",
   "metadata": {
    "id": "6eLe4cPZe-ui",
    "papermill": {
     "duration": 0.004992,
     "end_time": "2022-09-14T06:41:52.484267",
     "exception": false,
     "start_time": "2022-09-14T06:41:52.479275",
     "status": "completed"
    },
    "tags": []
   },
   "source": [
    "# Train the model\n",
    "\n",
    "Now we are ready to train the model. To set the callback, simply set the `callbacks` parameter to the `myCallback` instance you declared before. Run the cell below and observe what happens."
   ]
  },
  {
   "cell_type": "code",
   "execution_count": 4,
   "id": "8c1ace58",
   "metadata": {
    "execution": {
     "iopub.execute_input": "2022-09-14T06:41:52.497110Z",
     "iopub.status.busy": "2022-09-14T06:41:52.496411Z",
     "iopub.status.idle": "2022-09-14T06:42:06.422773Z",
     "shell.execute_reply": "2022-09-14T06:42:06.421740Z"
    },
    "id": "nLXTB32de3_e",
    "papermill": {
     "duration": 13.936007,
     "end_time": "2022-09-14T06:42:06.425618",
     "exception": false,
     "start_time": "2022-09-14T06:41:52.489611",
     "status": "completed"
    },
    "tags": []
   },
   "outputs": [
    {
     "name": "stderr",
     "output_type": "stream",
     "text": [
      "2022-09-14 06:41:53.044999: I tensorflow/compiler/mlir/mlir_graph_optimization_pass.cc:185] None of the MLIR Optimization Passes are enabled (registered 2)\n"
     ]
    },
    {
     "name": "stdout",
     "output_type": "stream",
     "text": [
      "Epoch 1/10\n",
      "1875/1875 [==============================] - 7s 3ms/step - loss: 0.4741 - accuracy: 0.8306\n",
      "Epoch 2/10\n",
      "1875/1875 [==============================] - 6s 3ms/step - loss: 0.3583 - accuracy: 0.8683\n",
      "\n",
      "Loss is lower than 0.4 so cancelling training!\n"
     ]
    },
    {
     "data": {
      "text/plain": [
       "<keras.callbacks.History at 0x7f1425b78b90>"
      ]
     },
     "execution_count": 4,
     "metadata": {},
     "output_type": "execute_result"
    }
   ],
   "source": [
    "# Train the model with a callback\n",
    "model.fit(x_train, y_train, epochs=10, callbacks=[callbacks])"
   ]
  },
  {
   "cell_type": "markdown",
   "id": "f391ed07",
   "metadata": {
    "id": "fGBSkRQPff93",
    "papermill": {
     "duration": 0.02216,
     "end_time": "2022-09-14T06:42:06.470578",
     "exception": false,
     "start_time": "2022-09-14T06:42:06.448418",
     "status": "completed"
    },
    "tags": []
   },
   "source": [
    "You will notice that the training does not need to complete all 10 epochs. By having a callback at each end of the epoch, it is able to check the training parameters and compare if it meets the threshold you set in the function definition. In this case, it will simply stop when the loss falls below `0.40` after the current epoch.\n"
   ]
  },
  {
   "cell_type": "markdown",
   "id": "edb9006b",
   "metadata": {
    "id": "Uy_UdAtKsjpW",
    "papermill": {
     "duration": 0.020901,
     "end_time": "2022-09-14T06:42:06.513187",
     "exception": false,
     "start_time": "2022-09-14T06:42:06.492286",
     "status": "completed"
    },
    "tags": []
   },
   "source": [
    "# Stop training when the accuracy metric exceeds 70%"
   ]
  },
  {
   "cell_type": "code",
   "execution_count": 5,
   "id": "0729bc5e",
   "metadata": {
    "execution": {
     "iopub.execute_input": "2022-09-14T06:42:06.557109Z",
     "iopub.status.busy": "2022-09-14T06:42:06.556651Z",
     "iopub.status.idle": "2022-09-14T06:42:06.563124Z",
     "shell.execute_reply": "2022-09-14T06:42:06.561907Z"
    },
    "id": "o1bNaYj0sZhF",
    "papermill": {
     "duration": 0.031412,
     "end_time": "2022-09-14T06:42:06.565439",
     "exception": false,
     "start_time": "2022-09-14T06:42:06.534027",
     "status": "completed"
    },
    "tags": []
   },
   "outputs": [],
   "source": [
    "class myCallback(tf.keras.callbacks.Callback):\n",
    "  def on_epoch_end(self, epoch, logs={}):\n",
    "    '''\n",
    "    Halts the training after reaching 60 percent accuracy\n",
    "\n",
    "    Args:\n",
    "      epoch (integer) - index of epoch (required but unused in the function definition below)\n",
    "      logs (dict) - metric results from the training epoch\n",
    "    '''\n",
    "\n",
    "    # Check accuracy\n",
    "    if(logs.get('accuracy') > 0.7):\n",
    "\n",
    "      # Stop if threshold is met\n",
    "      print(\"\\nLoss is lower than 0.4 so cancelling training!\")\n",
    "      self.model.stop_training = True\n",
    "\n",
    "# Instantiate class\n",
    "callbacks = myCallback()"
   ]
  },
  {
   "cell_type": "markdown",
   "id": "c10edd34",
   "metadata": {
    "id": "7LbQ0kpsswfB",
    "papermill": {
     "duration": 0.021594,
     "end_time": "2022-09-14T06:42:06.608619",
     "exception": false,
     "start_time": "2022-09-14T06:42:06.587025",
     "status": "completed"
    },
    "tags": []
   },
   "source": [
    "# Define and compile the model\n"
   ]
  },
  {
   "cell_type": "code",
   "execution_count": 6,
   "id": "e3948210",
   "metadata": {
    "execution": {
     "iopub.execute_input": "2022-09-14T06:42:06.657746Z",
     "iopub.status.busy": "2022-09-14T06:42:06.656356Z",
     "iopub.status.idle": "2022-09-14T06:42:14.066678Z",
     "shell.execute_reply": "2022-09-14T06:42:14.065349Z"
    },
    "id": "t8KKB-j-sxWq",
    "papermill": {
     "duration": 7.43876,
     "end_time": "2022-09-14T06:42:14.069571",
     "exception": false,
     "start_time": "2022-09-14T06:42:06.630811",
     "status": "completed"
    },
    "tags": []
   },
   "outputs": [],
   "source": [
    "# Define the model\n",
    "model = tf.keras.models.Sequential([\n",
    "  tf.keras.layers.Flatten(input_shape=(28, 28)),\n",
    "  tf.keras.layers.Dense(512, activation=tf.nn.relu),\n",
    "  tf.keras.layers.Dense(10, activation=tf.nn.softmax)\n",
    "])\n",
    "\n",
    "# Compile the model\n",
    "model.compile(optimizer=tf.optimizers.Adam(),\n",
    "              loss='sparse_categorical_crossentropy',\n",
    "              metrics=['accuracy'])\n",
    "\n"
   ]
  },
  {
   "cell_type": "markdown",
   "id": "d48c0bb7",
   "metadata": {
    "id": "mJwgHGwds-xW",
    "papermill": {
     "duration": 0.021851,
     "end_time": "2022-09-14T06:42:14.113305",
     "exception": false,
     "start_time": "2022-09-14T06:42:14.091454",
     "status": "completed"
    },
    "tags": []
   },
   "source": [
    "# Train the model"
   ]
  },
  {
   "cell_type": "code",
   "execution_count": 7,
   "id": "95080825",
   "metadata": {
    "execution": {
     "iopub.execute_input": "2022-09-14T06:42:14.157875Z",
     "iopub.status.busy": "2022-09-14T06:42:14.157424Z",
     "iopub.status.idle": "2022-09-14T06:42:21.784137Z",
     "shell.execute_reply": "2022-09-14T06:42:21.782549Z"
    },
    "id": "bITMmgims8fI",
    "papermill": {
     "duration": 7.65169,
     "end_time": "2022-09-14T06:42:21.786742",
     "exception": false,
     "start_time": "2022-09-14T06:42:14.135052",
     "status": "completed"
    },
    "tags": []
   },
   "outputs": [
    {
     "name": "stdout",
     "output_type": "stream",
     "text": [
      "Epoch 1/10\n",
      "1875/1875 [==============================] - 7s 4ms/step - loss: 0.4730 - accuracy: 0.8312\n",
      "\n",
      "Loss is lower than 0.4 so cancelling training!\n"
     ]
    },
    {
     "data": {
      "text/plain": [
       "<keras.callbacks.History at 0x7f142292ced0>"
      ]
     },
     "execution_count": 7,
     "metadata": {},
     "output_type": "execute_result"
    }
   ],
   "source": [
    "# Train the model with a callback\n",
    "model.fit(x_train, y_train, epochs=10, callbacks=[callbacks])"
   ]
  }
 ],
 "metadata": {
  "kernelspec": {
   "display_name": "Python 3",
   "language": "python",
   "name": "python3"
  },
  "language_info": {
   "codemirror_mode": {
    "name": "ipython",
    "version": 3
   },
   "file_extension": ".py",
   "mimetype": "text/x-python",
   "name": "python",
   "nbconvert_exporter": "python",
   "pygments_lexer": "ipython3",
   "version": "3.7.12"
  },
  "papermill": {
   "default_parameters": {},
   "duration": 52.203914,
   "end_time": "2022-09-14T06:42:24.639677",
   "environment_variables": {},
   "exception": null,
   "input_path": "__notebook__.ipynb",
   "output_path": "__notebook__.ipynb",
   "parameters": {},
   "start_time": "2022-09-14T06:41:32.435763",
   "version": "2.3.4"
  }
 },
 "nbformat": 4,
 "nbformat_minor": 5
}
